{
 "cells": [
  {
   "cell_type": "code",
   "execution_count": 3,
   "metadata": {},
   "outputs": [
    {
     "name": "stdout",
     "output_type": "stream",
     "text": [
      "/Users/nadialucas/Dropbox/epic_predoc_resources/epic_orientation\n",
      "/Users/nadialucas/Dropbox/epic_predoc_resources/epic_orientation/data/Python_R_Puerto_Rico/tv_hurricanes.csv\n"
     ]
    }
   ],
   "source": [
    "# This orientation session will be tailored to doing some data analysis\n",
    "# in Python using mainly pandas\n",
    "\n",
    "# Hurricane Harvey makes landfall 8/25/17\n",
    "# Hurricane Irma makes landfall 9/10/17\n",
    "# Hurricane Maria makes landfall 9/20/17\n",
    "\n",
    "# Fox news vs. CNN or MSNBC\n",
    "\n",
    "import os\n",
    "import pandas as pd\n",
    "import numpy as np \n",
    "import matplotlib.pyplot as plt\n",
    "import datetime as dt\n",
    "import getpass\n",
    "\n",
    "if getpass.getuser()==\"nadialucas\":\n",
    "    dbPath = r\"/Users/nadialucas/Dropbox/epic_predoc_resources/epic_orientation\"\n",
    "else:\n",
    "\tprint(\"please add your machine's directory\")\n",
    "\n",
    "\n",
    "# Set directory paths\n",
    "dataPath = r\"{}/data/Python_R_Puerto_Rico\".format(dbPath)\n",
    "\n",
    "# read in \n",
    "media_trump_filename = r\"{}/mediacloud_trump.csv\".format(dataPath)\n",
    "google_trends_filename = r\"{}/google_trends.csv\".format(dataPath)\n",
    "media_states_filename = r\"{}/mediacloud_states.csv\".format(dataPath)\n",
    "media_hurricanes_filename = r\"{}/mediacloud_hurricanes.csv\".format(dataPath)\n",
    "tv_hurricanes_filename = r\"{}/tv_hurricanes.csv\".format(dataPath)\n",
    "tv_hurricanes_by_network_filename = r\"{}/tv_hurricanes_by_network.csv\".format(dataPath)\n",
    "\n",
    "print(dbPath)\n",
    "print(tv_hurricanes_filename)"
   ]
  },
  {
   "cell_type": "code",
   "execution_count": 9,
   "metadata": {},
   "outputs": [
    {
     "name": "stdout",
     "output_type": "stream",
     "text": [
      "       Day  \"Hurricane Harvey\": (United States)  \\\n",
      "0  8/20/17                                    0   \n",
      "1  8/21/17                                    0   \n",
      "2  8/22/17                                    0   \n",
      "3  8/23/17                                    1   \n",
      "4  8/24/17                                    9   \n",
      "\n",
      "   \"Hurricane Irma\": (United States)  \"Hurricane Maria\": (United States)  \\\n",
      "0                                  0                                   0   \n",
      "1                                  0                                   0   \n",
      "2                                  0                                   0   \n",
      "3                                  0                                   0   \n",
      "4                                  0                                   0   \n",
      "\n",
      "   \"Hurricane Jose\": (United States)  \n",
      "0                                  0  \n",
      "1                                  0  \n",
      "2                                  0  \n",
      "3                                  0  \n",
      "4                                  0  \n"
     ]
    }
   ],
   "source": [
    "# we create the object media_trump which is an instance of a pandas dataframe\n",
    "media_trump = pd.read_csv(media_trump_filename)\n",
    "google_trends = pd.read_csv(google_trends_filename)\n",
    "media_states = pd.read_csv(media_states_filename)\n",
    "media_hurricanes = pd.read_csv(media_hurricanes_filename)\n",
    "tv_hurricanes = pd.read_csv(tv_hurricanes_filename)\n",
    "tv_hurricanes_by_network = pd.read_csv(tv_hurricanes_by_network_filename)\n",
    "\n",
    "print(google_trends.head())"
   ]
  },
  {
   "cell_type": "code",
   "execution_count": 8,
   "metadata": {},
   "outputs": [
    {
     "name": "stdout",
     "output_type": "stream",
     "text": [
      "       Day  Harvey_US  Irma_US  Maria_US  Jose_US\n",
      "0  8/20/17          0        0         0        0\n",
      "1  8/21/17          0        0         0        0\n",
      "2  8/22/17          0        0         0        0\n",
      "3  8/23/17          1        0         0        0\n",
      "4  8/24/17          9        0         0        0\n"
     ]
    }
   ],
   "source": [
    "# For some reason the csvs we read in sometimes has wonky or long variable titles so let's clean those up\n",
    "# and make sure to get rid of random quotation marks we find.\n",
    "media_trump = media_trump.rename(columns = {'title:\"Puerto Rico\"': 'PuertoRico'})\n",
    "media_trump = media_trump.rename(columns = {'title:\"Puerto Rico\" AND (title:Trump OR title:President)': 'PuertoRico_Trump'})\n",
    "media_trump = media_trump.rename(columns = {'title:Florida': 'Florida'})\n",
    "media_trump = media_trump.rename(columns = {'title:Florida AND (title:Trump OR title:President)': 'Florida_Trump'})\n",
    "media_trump = media_trump.rename(columns = {'title:Texas': 'Texas'})\n",
    "media_trump = media_trump.rename(columns = {'title:Texas AND (title:Trump OR title:President)': 'Texas_Trump'})\n",
    "\n",
    "google_trends = google_trends.rename(columns = {'\"Hurricane Harvey\": (United States)': 'Harvey_US'})\n",
    "google_trends = google_trends.rename(columns = {'\"Hurricane Irma\": (United States)': 'Irma_US'})\n",
    "google_trends = google_trends.rename(columns = {'\"Hurricane Maria\": (United States)': 'Maria_US'})\n",
    "google_trends = google_trends.rename(columns = {'\"Hurricane Jose\": (United States)': 'Jose_US'})\n",
    "media_states = media_states.rename(columns = {'\"Puerto Rico\"': 'Puerto Rico'})\n",
    "\n",
    "print(google_trends.head())"
   ]
  },
  {
   "cell_type": "code",
   "execution_count": null,
   "metadata": {
    "collapsed": true
   },
   "outputs": [],
   "source": []
  },
  {
   "cell_type": "code",
   "execution_count": null,
   "metadata": {
    "collapsed": true
   },
   "outputs": [],
   "source": []
  }
 ],
 "metadata": {
  "kernelspec": {
   "display_name": "Python 2",
   "language": "python",
   "name": "python2"
  },
  "language_info": {
   "codemirror_mode": {
    "name": "ipython",
    "version": 2
   },
   "file_extension": ".py",
   "mimetype": "text/x-python",
   "name": "python",
   "nbconvert_exporter": "python",
   "pygments_lexer": "ipython2",
   "version": "2.7.15"
  }
 },
 "nbformat": 4,
 "nbformat_minor": 2
}
