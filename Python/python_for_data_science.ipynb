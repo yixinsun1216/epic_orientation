{
 "cells": [
  {
   "cell_type": "markdown",
   "metadata": {},
   "source": [
    "## Python for Data Science\n",
    "\n",
    "If you were in the python session about functions and classes, the following code sample is super awesome for motivating [numerical methods](https://nbviewer.jupyter.org/github/davidrpugh/numerical-methods/blob/master/labs/lab-1/lab-1.ipynb) in Python.\n",
    "\n",
    "We will be using the FiveThirtyEight [article](https://github.com/fivethirtyeight/data/tree/master/puerto-rico-media) about Puerto Rico and media attention\n",
    "\n",
    "This orientation session will be tailored to doing some data analysis in Python using the [pandas](https://pandas.pydata.org/pandas-docs/stable/) data science package. A really good blog post to step you through some more in-depth pandas learning is linked [here](https://medium.com/dunder-data/how-to-learn-pandas-108905ab4955). This tutorial is very distilled down.\n",
    "\n",
    "Note, for analysis we will be using these date cutoffs:\n",
    "* Hurricane Harvey makes landfall 8/25/17 \n",
    "* Hurricane Irma makes landfall 9/10/17\n",
    "* Hurricane Maria makes landfall 9/20/17"
   ]
  },
  {
   "cell_type": "code",
   "execution_count": 100,
   "metadata": {
    "scrolled": true
   },
   "outputs": [],
   "source": [
    "\n",
    "import os\n",
    "import pandas as pd\n",
    "import numpy as np \n",
    "import matplotlib.pyplot as plt\n",
    "import datetime as dt\n",
    "import getpass\n",
    "import math\n",
    "\n",
    "if getpass.getuser()==\"nadialucas\":\n",
    "    dbPath = r\"/Users/nadialucas/Dropbox/epic_predoc_resources/epic_orientation\"\n",
    "else:\n",
    "\tprint(\"please add your machine's directory\")\n",
    "\n",
    "\n",
    "# Set directory paths\n",
    "dataPath = r\"{}/data/Python_R_Puerto_Rico\".format(dbPath)\n",
    "\n",
    "# read in \n",
    "media_trump_filename = r\"{}/mediacloud_trump.csv\".format(dataPath)\n",
    "google_trends_filename = r\"{}/google_trends.csv\".format(dataPath)\n",
    "media_states_filename = r\"{}/mediacloud_states.csv\".format(dataPath)\n",
    "media_hurricanes_filename = r\"{}/mediacloud_hurricanes.csv\".format(dataPath)\n",
    "tv_hurricanes_filename = r\"{}/tv_hurricanes.csv\".format(dataPath)\n",
    "tv_hurricanes_by_network_filename = r\"{}/tv_hurricanes_by_network.csv\".format(dataPath)"
   ]
  },
  {
   "cell_type": "markdown",
   "metadata": {},
   "source": [
    "### Pandas\n",
    "\n",
    "Pandas is an open-source package that has been written for Python that builds off of existing data structures. Some basic data structures underlying pandas dataframes are arrays (specifically ndarrays) and dictionaries.\n",
    "\n",
    "#### Arrays\n",
    "\n",
    "Arrays are lists of objects. Arrays are quite flexible and can contain any different data types. Functions can be powerfully mapped onto arrays. Some of you may find this similar to Stata where manipulating data is done on a 'per variable' basis.\n",
    "\n",
    "#### Dictionaries\n",
    "\n",
    "Dictionaries, otherwise known as hash tables, are mappings of key, value pairs. They provide very fast lookup time and can store a lot of data.\n",
    "\n",
    "#### Pandas Dataframes\n",
    "\n",
    "Pandas Dataframes are [data structures](https://pandas.pydata.org/pandas-docs/stable/dsintro.html) that are built off of arrays (specifically ndarrays) and dictionaries. They are very flexible and can be created either by using dictionaries of arrays or by arrays of dictionaries. Python is pretty smart and can usually figure out what you are trying to pass into it."
   ]
  },
  {
   "cell_type": "code",
   "execution_count": 101,
   "metadata": {},
   "outputs": [
    {
     "name": "stdout",
     "output_type": "stream",
     "text": [
      "     Hometown    Name  id\n",
      "0   SINGAPORE    Trin   1\n",
      "1      DENVER   Henry   2\n",
      "2     HOUSTON  Andrew   3\n",
      "3  PROVIDENCE   Sunny   4\n",
      "4   NEW DELHI   Kotia   5\n"
     ]
    }
   ],
   "source": [
    "dict_of_arrays = {'id': [1,2,3,4,5], \n",
    "                'Name': ['Trin', 'Henry', 'Andrew', 'Sunny','Kotia'], \n",
    "                'Hometown': ['SINGAPORE', 'DENVER', 'HOUSTON', 'PROVIDENCE', 'NEW DELHI']}\n",
    "pd_doa = pd.DataFrame(dict_of_arrays)\n",
    "print(pd_doa.head())"
   ]
  },
  {
   "cell_type": "code",
   "execution_count": 102,
   "metadata": {},
   "outputs": [
    {
     "name": "stdout",
     "output_type": "stream",
     "text": [
      "     Hometown    Name  id\n",
      "0   SINGAPORE    Trin   1\n",
      "1      DENVER   Henry   2\n",
      "2     HOUSTON  Andrew   3\n",
      "3  PROVIDENCE   Sunny   4\n",
      "4   NEW DELHI   Kotia   5\n"
     ]
    }
   ],
   "source": [
    "array_of_dicts = [{'id': 1, 'Name': 'Trin', 'Hometown': 'SINGAPORE'},\n",
    "                  {'id': 2, 'Name': 'Henry', 'Hometown': 'DENVER'},\n",
    "                  {'id': 3, 'Name': 'Andrew', 'Hometown': 'HOUSTON'},\n",
    "                  {'id': 4, 'Name': 'Sunny', 'Hometown': 'PROVIDENCE'},\n",
    "                  {'id': 5, 'Name': 'Kotia', 'Hometown': 'NEW DELHI'}]\n",
    "pd_aod = pd.DataFrame(array_of_dicts)\n",
    "print(pd_aod.head())"
   ]
  },
  {
   "cell_type": "markdown",
   "metadata": {},
   "source": [
    "### Reading in Data\n",
    "\n",
    "Of course, there are built-in funtions that read data from outside files as pandas objects, which is what you'll end up needing to do but understanding the basic data structures pandas dataframes are built off of will help you understand the syntax of using and manipulating these data structures"
   ]
  },
  {
   "cell_type": "code",
   "execution_count": 103,
   "metadata": {},
   "outputs": [
    {
     "name": "stdout",
     "output_type": "stream",
     "text": [
      "       Day  \"Hurricane Harvey\": (United States)  \\\n",
      "0  8/20/17                                    0   \n",
      "1  8/21/17                                    0   \n",
      "2  8/22/17                                    0   \n",
      "3  8/23/17                                    1   \n",
      "4  8/24/17                                    9   \n",
      "\n",
      "   \"Hurricane Irma\": (United States)  \"Hurricane Maria\": (United States)  \\\n",
      "0                                  0                                   0   \n",
      "1                                  0                                   0   \n",
      "2                                  0                                   0   \n",
      "3                                  0                                   0   \n",
      "4                                  0                                   0   \n",
      "\n",
      "   \"Hurricane Jose\": (United States)  \n",
      "0                                  0  \n",
      "1                                  0  \n",
      "2                                  0  \n",
      "3                                  0  \n",
      "4                                  0  \n"
     ]
    }
   ],
   "source": [
    "# we create the object media_trump which is an instance of a pandas dataframe\n",
    "media_trump = pd.read_csv(media_trump_filename)\n",
    "google_trends = pd.read_csv(google_trends_filename)\n",
    "media_states = pd.read_csv(media_states_filename)\n",
    "media_hurricanes = pd.read_csv(media_hurricanes_filename)\n",
    "tv_hurricanes = pd.read_csv(tv_hurricanes_filename)\n",
    "tv_hurricanes_by_network = pd.read_csv(tv_hurricanes_by_network_filename)\n",
    "\n",
    "print(google_trends.head())"
   ]
  },
  {
   "cell_type": "markdown",
   "metadata": {},
   "source": [
    "## Manipulating Data"
   ]
  },
  {
   "cell_type": "code",
   "execution_count": 104,
   "metadata": {},
   "outputs": [
    {
     "name": "stdout",
     "output_type": "stream",
     "text": [
      "       Day  Harvey_US  Irma_US  Maria_US  Jose_US\n",
      "0  8/20/17          0        0         0        0\n",
      "1  8/21/17          0        0         0        0\n",
      "2  8/22/17          0        0         0        0\n",
      "3  8/23/17          1        0         0        0\n",
      "4  8/24/17          9        0         0        0\n"
     ]
    }
   ],
   "source": [
    "# For some reason the csvs we read in sometimes has wonky or long variable titles so let's clean those up\n",
    "# and make sure to get rid of random quotation marks we find.\n",
    "media_trump = media_trump.rename(columns = {'title:\"Puerto Rico\"': 'PuertoRico',\n",
    "                                 'title:\"Puerto Rico\" AND (title:Trump OR title:President)': 'PuertoRico_Trump',\n",
    "                                 'title:Florida': 'Florida',\n",
    "                                 'title:Florida AND (title:Trump OR title:President)': 'Florida_Trump', \n",
    "                                 'title:Texas': 'Texas',\n",
    "                                 'title:Texas AND (title:Trump OR title:President)': 'Texas_Trump'})\n",
    "\n",
    "google_trends = google_trends.rename({'\"Hurricane Harvey\": (United States)': 'Harvey_US',\n",
    "                                    '\"Hurricane Irma\": (United States)': 'Irma_US',\n",
    "                                    '\"Hurricane Maria\": (United States)': 'Maria_US',\n",
    "                                    '\"Hurricane Jose\": (United States)': 'Jose_US',\n",
    "                                    '\"Puerto Rico\"': 'Puerto Rico'}, axis = 'columns')\n",
    "print(google_trends.head())"
   ]
  },
  {
   "cell_type": "markdown",
   "metadata": {},
   "source": [
    "## Indexing Data\n",
    "\n",
    "You can use .loc to index both rows and columns by name. Syntax is \n",
    "```\n",
    "df.loc[row_begin : row_end, column_begin : column_end]\n",
    "df.loc[[row_1, row_2, ...], [column_1, column_2, ...]]\n",
    "```\n",
    "\n",
    "You can use .iloc to index both rows and columns by index instead of name with the same syntax."
   ]
  },
  {
   "cell_type": "code",
   "execution_count": 105,
   "metadata": {},
   "outputs": [
    {
     "name": "stdout",
     "output_type": "stream",
     "text": [
      "       Day  Harvey_US\n",
      "0  8/20/17          0\n",
      "1  8/21/17          0\n",
      "2  8/22/17          0\n",
      "3  8/23/17          1\n",
      "4  8/24/17          9\n"
     ]
    }
   ],
   "source": [
    "loc_slice = google_trends.loc[:, ['Day', 'Harvey_US']]\n",
    "\n",
    "print(loc_slice[:5])"
   ]
  },
  {
   "cell_type": "code",
   "execution_count": 106,
   "metadata": {},
   "outputs": [
    {
     "name": "stdout",
     "output_type": "stream",
     "text": [
      "       Day  Harvey_US  Irma_US  Maria_US\n",
      "0  8/20/17          0        0         0\n",
      "1  8/21/17          0        0         0\n",
      "2  8/22/17          0        0         0\n",
      "3  8/23/17          1        0         0\n",
      "4  8/24/17          9        0         0\n",
      "5  8/25/17         29        0         0\n"
     ]
    }
   ],
   "source": [
    "iloc_slice = google_trends.iloc[:6, 0:4]\n",
    "\n",
    "print(iloc_slice)"
   ]
  },
  {
   "cell_type": "markdown",
   "metadata": {},
   "source": [
    "## Masking\n",
    "\n",
    "A function to find and replace all observations that meet a certain criterion using boolean logic. The following code shows how you slice the variable in question and then apply a mask to just that variable and add it back into the dataframe. You can also apply a mask to an entire dataframe which would find and then replace all rows instead of singular observations.\n",
    "\n",
    "Note: We first create a copy of the dataframe we can manipulate so we don't affect later code that uses the original. We have to use the copy() function to replicate the dataframe entirely, otherwise we would just be setting the two variable name pointers equal to each other and manipulating the original dataframe anyways."
   ]
  },
  {
   "cell_type": "code",
   "execution_count": 119,
   "metadata": {},
   "outputs": [
    {
     "name": "stdout",
     "output_type": "stream",
     "text": [
      "       Day  Harvey_US  Irma_US  Maria_US  Jose_US\n",
      "12  9/1/17          7       14         0        0\n",
      "13  9/2/17          5       13         0        0\n",
      "14  9/3/17          4     1000         0        0\n",
      "15  9/4/17          3     1000         0        0\n",
      "16  9/5/17          4     1000         0        1\n",
      "17  9/6/17          4     1000         0        3\n"
     ]
    }
   ],
   "source": [
    "google_trends_copy = google_trends.copy()\n",
    "mask = google_trends_copy.Irma_US.mask(google_trends_copy.Irma_US>20, 1000)\n",
    "google_trends_copy[\"Irma_US\"] = mask\n",
    "print(google_trends_copy[12:18])"
   ]
  },
  {
   "cell_type": "markdown",
   "metadata": {},
   "source": [
    "## Functionals\n"
   ]
  },
  {
   "cell_type": "code",
   "execution_count": 120,
   "metadata": {},
   "outputs": [
    {
     "name": "stdout",
     "output_type": "stream",
     "text": [
      "       Day  Harvey_US  Irma_US  Maria_US  Jose_US\n",
      "0  8/20/17          0        0         0        0\n",
      "1  8/21/17          0        0         0        0\n",
      "2  8/22/17          0        0         0        0\n",
      "3  8/23/17          1        0         0        0\n",
      "4  8/24/17          9        0         0        0\n"
     ]
    }
   ],
   "source": [
    "# the dataframe is generally very flexible so in the case we want\n",
    "# to plot date objects on the x-axis we can remove dates as a vector\n",
    "# and do a list functional\n",
    "# pandas is known for its time series functionality\n",
    "google_trends_dates = google_trends['Day']\n",
    "# the following is a list functional\n",
    "google_trends_date_objects = [dt.datetime.strptime(d,'%m/%d/%y').date() for d in google_trends_dates]\n",
    "print(google_trends.head())"
   ]
  },
  {
   "cell_type": "markdown",
   "metadata": {},
   "source": [
    "## Visualizing Data"
   ]
  },
  {
   "cell_type": "code",
   "execution_count": 14,
   "metadata": {},
   "outputs": [
    {
     "data": {
      "image/png": "[encoded data removed]",
      "text/plain": [
       "<Figure size 432x288 with 1 Axes>"
      ]
     },
     "metadata": {},
     "output_type": "display_data"
    }
   ],
   "source": [
    "# then we can plot the x-axis as a date object instead of dealing with a \n",
    "# clutter of dates as strings\n",
    "plt.plot(google_trends_date_objects, google_trends['Harvey_US'], label = \"Harvey\")\n",
    "plt.plot(google_trends_date_objects, google_trends['Irma_US'], label = \"Irma\")\n",
    "plt.plot(google_trends_date_objects, google_trends['Maria_US'], label = \"Maria\")\n",
    "plt.axvline(x=dt.datetime.strptime(\"9/20/17\", '%m/%d/%y').date(), linestyle = 'dotted')\n",
    "plt.axvline(x=dt.datetime.strptime(\"8/25/17\", '%m/%d/%y').date(), linestyle = 'dotted')\n",
    "plt.axvline(x=dt.datetime.strptime(\"9/10/17\", '%m/%d/%y').date(), linestyle = 'dotted')\n",
    "plt.legend(loc='best')\n",
    "\n",
    "plt.show()\n"
   ]
  },
  {
   "cell_type": "code",
   "execution_count": null,
   "metadata": {
    "collapsed": true
   },
   "outputs": [],
   "source": []
  }
 ],
 "metadata": {
  "kernelspec": {
   "display_name": "Python 2",
   "language": "python",
   "name": "python2"
  },
  "language_info": {
   "codemirror_mode": {
    "name": "ipython",
    "version": 2
   },
   "file_extension": ".py",
   "mimetype": "text/x-python",
   "name": "python",
   "nbconvert_exporter": "python",
   "pygments_lexer": "ipython2",
   "version": "2.7.15"
  }
 },
 "nbformat": 4,
 "nbformat_minor": 2
}
